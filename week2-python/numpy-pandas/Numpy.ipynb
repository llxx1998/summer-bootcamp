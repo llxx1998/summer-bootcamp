{
 "cells": [
  {
   "cell_type": "markdown",
   "metadata": {},
   "source": [
    "# Introduction to NumPy"
   ]
  },
  {
   "cell_type": "markdown",
   "metadata": {},
   "source": [
    "* Numpy provides efficient storage and data operations\n",
    "* http://www.numpy.org/ for more info and installation instructions"
   ]
  },
  {
   "cell_type": "markdown",
   "metadata": {},
   "source": [
    "### Python List - Could contain different data types\n",
    "\n",
    "### Python Array - Only one type of data"
   ]
  },
  {
   "cell_type": "code",
   "execution_count": 452,
   "metadata": {
    "scrolled": true
   },
   "outputs": [
    {
     "name": "stdout",
     "output_type": "stream",
     "text": [
      "[0, 1, 2, 3, 4, 5, 6, 7, 8, 9]\n",
      "array('i', [0, 1, 2, 3, 4, 5, 6, 7, 8, 9])\n",
      "[1 True 'string' list(['another', 'list'])]\n"
     ]
    }
   ],
   "source": [
    "import numpy as np\n",
    "\n",
    "python_list = list(range(10))\n",
    "print(python_list)\n",
    "\n",
    "import array as arr\n",
    "python_array = arr.array('i', python_list)\n",
    "print(python_array)\n",
    "\n",
    "numpy_array = np.array([1, True, \"string\", [\"another\", \"list\"]]) \n",
    "print(numpy_array)"
   ]
  },
  {
   "cell_type": "code",
   "execution_count": 453,
   "metadata": {},
   "outputs": [
    {
     "ename": "TypeError",
     "evalue": "must be real number, not str",
     "traceback": [
      "\u001b[0;31m---------------------------------------------------------------------------\u001b[0m",
      "\u001b[0;31mTypeError\u001b[0m                                 Traceback (most recent call last)",
      "\u001b[0;32m<ipython-input-453-fbde301a1de7>\u001b[0m in \u001b[0;36m<module>\u001b[0;34m\u001b[0m\n\u001b[1;32m      1\u001b[0m \u001b[0;32mimport\u001b[0m \u001b[0marray\u001b[0m \u001b[0;32mas\u001b[0m \u001b[0marr\u001b[0m\u001b[0;34m\u001b[0m\u001b[0;34m\u001b[0m\u001b[0m\n\u001b[0;32m----> 2\u001b[0;31m \u001b[0mpython_array\u001b[0m \u001b[0;34m=\u001b[0m \u001b[0marr\u001b[0m\u001b[0;34m.\u001b[0m\u001b[0marray\u001b[0m\u001b[0;34m(\u001b[0m\u001b[0;34m'd'\u001b[0m\u001b[0;34m,\u001b[0m \u001b[0;34m[\u001b[0m\u001b[0;36m1\u001b[0m\u001b[0;34m,\u001b[0m \u001b[0;34m\"string here\"\u001b[0m\u001b[0;34m,\u001b[0m \u001b[0;36m3\u001b[0m\u001b[0;34m]\u001b[0m\u001b[0;34m)\u001b[0m \u001b[0;31m# Error here because different element type\u001b[0m\u001b[0;34m\u001b[0m\u001b[0;34m\u001b[0m\u001b[0m\n\u001b[0m\u001b[1;32m      3\u001b[0m \u001b[0mprint\u001b[0m\u001b[0;34m(\u001b[0m\u001b[0mpython_array\u001b[0m\u001b[0;34m)\u001b[0m\u001b[0;34m\u001b[0m\u001b[0;34m\u001b[0m\u001b[0m\n",
      "\u001b[0;31mTypeError\u001b[0m: must be real number, not str"
     ],
     "output_type": "error"
    }
   ],
   "source": [
    "import array as arr\n",
    "python_array = arr.array('d', [1, \"string here\", 3]) # Error here because different element type\n",
    "print(python_array)"
   ]
  },
  {
   "cell_type": "markdown",
   "metadata": {},
   "source": [
    "# Numpy Arrays\n",
    "* ndarray - n-dimensional array\n",
    "* why use array\n",
    "\n",
    "\n",
    "* Create from Python Lists\n",
    "* Create from Scratch"
   ]
  },
  {
   "cell_type": "code",
   "execution_count": 455,
   "metadata": {},
   "outputs": [
    {
     "name": "stdout",
     "output_type": "stream",
     "text": [
      "<class 'numpy.ndarray'>\n",
      "(3,)\n",
      "[1 2 3]\n",
      "1 2 3\n"
     ]
    }
   ],
   "source": [
    "import numpy as np\n",
    "\n",
    "a = np.array([1, 2, 3])\n",
    "print(type(a))\n",
    "print(a.shape)\n",
    "\n",
    "print(a)\n",
    "print(a[0], a[1], a[2])"
   ]
  },
  {
   "cell_type": "code",
   "execution_count": 456,
   "metadata": {},
   "outputs": [
    {
     "data": {
      "text/plain": [
       "array([0, 0, 0, 0, 0, 0, 0, 0, 0, 0])"
      ]
     },
     "execution_count": 456,
     "metadata": {},
     "output_type": "execute_result"
    }
   ],
   "source": [
    "# np.zeros\n",
    "np.zeros(10, dtype=int)"
   ]
  },
  {
   "cell_type": "code",
   "execution_count": 457,
   "metadata": {},
   "outputs": [
    {
     "data": {
      "text/plain": [
       "array([[1., 1., 1., 1., 1.],\n",
       "       [1., 1., 1., 1., 1.],\n",
       "       [1., 1., 1., 1., 1.]])"
      ]
     },
     "execution_count": 457,
     "metadata": {},
     "output_type": "execute_result"
    }
   ],
   "source": [
    "# np.ones\n",
    "np.ones((3, 5), dtype=float)"
   ]
  },
  {
   "cell_type": "code",
   "execution_count": 521,
   "metadata": {},
   "outputs": [
    {
     "data": {
      "text/plain": [
       "array([[99, 99, 99, 99, 99],\n",
       "       [99, 99, 99, 99, 99],\n",
       "       [99, 99, 99, 99, 99]])"
      ]
     },
     "execution_count": 521,
     "metadata": {},
     "output_type": "execute_result"
    }
   ],
   "source": [
    "# np.full\n",
    "np.full((3, 5), 99)"
   ]
  },
  {
   "cell_type": "code",
   "execution_count": 522,
   "metadata": {},
   "outputs": [
    {
     "data": {
      "text/plain": [
       "array([ 0,  5, 10, 15])"
      ]
     },
     "execution_count": 522,
     "metadata": {},
     "output_type": "execute_result"
    }
   ],
   "source": [
    "# np.arange\n",
    "np.arange(0, 20, 5)"
   ]
  },
  {
   "cell_type": "code",
   "execution_count": 460,
   "metadata": {},
   "outputs": [
    {
     "data": {
      "text/plain": [
       "array([0.  , 0.25, 0.5 , 0.75, 1.  ])"
      ]
     },
     "execution_count": 460,
     "metadata": {},
     "output_type": "execute_result"
    }
   ],
   "source": [
    "# np.linspace\n",
    "np.linspace(0, 1, 5)"
   ]
  },
  {
   "cell_type": "code",
   "execution_count": 461,
   "metadata": {},
   "outputs": [
    {
     "data": {
      "text/plain": [
       "array([[0.04920035, 0.16010977, 0.53546691],\n",
       "       [0.29515264, 0.47635014, 0.70846912],\n",
       "       [0.44666505, 0.34823729, 0.85769535]])"
      ]
     },
     "execution_count": 461,
     "metadata": {},
     "output_type": "execute_result"
    }
   ],
   "source": [
    "# np.random\n",
    "np.random.random((3, 3))"
   ]
  },
  {
   "cell_type": "code",
   "execution_count": 462,
   "metadata": {},
   "outputs": [
    {
     "data": {
      "text/plain": [
       "array([[-0.92682248,  0.46525435,  0.20418149],\n",
       "       [ 1.5718732 ,  1.2721537 , -0.11864216],\n",
       "       [-0.2443763 ,  1.24768632, -0.65593965]])"
      ]
     },
     "execution_count": 462,
     "metadata": {},
     "output_type": "execute_result"
    }
   ],
   "source": [
    "# np.random.normal\n",
    "np.random.normal(0, 1, (3, 3))"
   ]
  },
  {
   "cell_type": "code",
   "execution_count": 523,
   "metadata": {},
   "outputs": [
    {
     "data": {
      "text/plain": [
       "array([[8, 9, 4],\n",
       "       [2, 6, 6],\n",
       "       [0, 4, 1],\n",
       "       [2, 9, 0]])"
      ]
     },
     "execution_count": 523,
     "metadata": {},
     "output_type": "execute_result"
    }
   ],
   "source": [
    "# np.random.randint\n",
    "np.random.randint(0, 10, (4, 3))"
   ]
  },
  {
   "cell_type": "code",
   "execution_count": 464,
   "metadata": {},
   "outputs": [
    {
     "data": {
      "text/plain": [
       "array([[1., 0., 0.],\n",
       "       [0., 1., 0.],\n",
       "       [0., 0., 1.]])"
      ]
     },
     "execution_count": 464,
     "metadata": {},
     "output_type": "execute_result"
    }
   ],
   "source": [
    "# np.eye ('I'dentity matrix)\n",
    "np.eye(3)"
   ]
  },
  {
   "cell_type": "markdown",
   "metadata": {},
   "source": [
    "[Numpy basic data types](https://docs.scipy.org/doc/numpy/user/basics.types.html)"
   ]
  },
  {
   "cell_type": "markdown",
   "metadata": {},
   "source": [
    "### 1.1 Numpy Functions\n",
    "* Loop in Python is slow because Dynamic Typing\n",
    "* Other available options: Cython, Jython\n",
    "* Numpy UFuncs([Universal functions](https://docs.scipy.org/doc/numpy/reference/ufuncs.html))\n",
    " * vectorized operation for statically typed, compiled routine.\n",
    " * Unary ufuncs - single input, binary ufuncs - two input\n",
    " "
   ]
  },
  {
   "cell_type": "code",
   "execution_count": 524,
   "metadata": {},
   "outputs": [
    {
     "name": "stdout",
     "output_type": "stream",
     "text": [
      "x     = [0 1 2 3 4]\n",
      "x + 1 = [1 2 3 4 5]\n",
      "x - 1 = [-1  0  1  2  3]\n",
      "x * 2 = [0 2 4 6 8]\n",
      "x / 2 = [0.  0.5 1.  1.5 2. ]\n",
      "x / 2 = [0 0 1 1 2]\n"
     ]
    }
   ],
   "source": [
    "x = np.arange(5)\n",
    "print(\"x     =\", x)\n",
    "print(\"x + 1 =\", x + 1)\n",
    "print(\"x - 1 =\", x - 1)\n",
    "print(\"x * 2 =\", x * 2)\n",
    "print(\"x / 2 =\", x / 2)\n",
    "print(\"x / 2 =\", x // 2)"
   ]
  },
  {
   "cell_type": "code",
   "execution_count": 466,
   "metadata": {},
   "outputs": [
    {
     "name": "stdout",
     "output_type": "stream",
     "text": [
      "-x     =  [ 0 -1 -2 -3 -4]\n",
      "x ** 2 =  [ 0  1  4  9 16]\n",
      "x % 2  =  [0 1 0 1 0]\n"
     ]
    }
   ],
   "source": [
    "print(\"-x     = \", -x)\n",
    "print(\"x ** 2 = \", x ** 2)\n",
    "print(\"x % 2  = \", x % 2)"
   ]
  },
  {
   "cell_type": "code",
   "execution_count": 525,
   "metadata": {},
   "outputs": [
    {
     "name": "stdout",
     "output_type": "stream",
     "text": [
      "x + 1 =        [1 2 3 4 5]\n",
      "np.add(x+1) =  [1 2 3 4 5]\n"
     ]
    }
   ],
   "source": [
    "print(\"x + 1 =       \", x + 1)\n",
    "print(\"np.add(x+1) = \", np.add(x, 1))"
   ]
  },
  {
   "cell_type": "markdown",
   "metadata": {},
   "source": [
    "Arithmetic Operations - [Link](https://docs.scipy.org/doc/numpy-1.13.0/reference/routines.math.html#arithmetic-operations)"
   ]
  },
  {
   "cell_type": "markdown",
   "metadata": {},
   "source": [
    "### Trigonometric functions\n",
    "\n",
    "[np.linspace](https://docs.scipy.org/doc/numpy/reference/generated/numpy.linspace.html)"
   ]
  },
  {
   "cell_type": "code",
   "execution_count": 520,
   "metadata": {
    "scrolled": true
   },
   "outputs": [
    {
     "name": "stdout",
     "output_type": "stream",
     "text": [
      "theta      =  [0.         1.57079633 3.14159265 4.71238898 6.28318531]\n",
      "sin(theta) =  [ 0.0000000e+00  1.0000000e+00  1.2246468e-16 -1.0000000e+00\n",
      " -2.4492936e-16]\n",
      "cos(theta) =  [ 1.0000000e+00  6.1232340e-17 -1.0000000e+00 -1.8369702e-16\n",
      "  1.0000000e+00]\n",
      "tan(theta) =  [ 0.00000000e+00  1.63312394e+16 -1.22464680e-16  5.44374645e+15\n",
      " -2.44929360e-16]\n"
     ]
    }
   ],
   "source": [
    "theta = np.linspace(0, 2 * np.pi, 5)\n",
    "print(\"theta      = \", theta)\n",
    "print(\"sin(theta) = \", np.sin(theta))\n",
    "print(\"cos(theta) = \", np.cos(theta))\n",
    "print(\"tan(theta) = \", np.tan(theta))"
   ]
  },
  {
   "cell_type": "markdown",
   "metadata": {},
   "source": [
    "### Absolute Value\n",
    "* Python: abs(x)\n",
    "* Numpy: np.absolute(x), np.abs(x)"
   ]
  },
  {
   "cell_type": "code",
   "execution_count": 469,
   "metadata": {},
   "outputs": [
    {
     "data": {
      "text/plain": [
       "array([2, 1, 0, 1, 2])"
      ]
     },
     "execution_count": 469,
     "metadata": {},
     "output_type": "execute_result"
    }
   ],
   "source": [
    "x = np.array([-2, -1, 0, 1, 2])\n",
    "abs(x)"
   ]
  },
  {
   "cell_type": "code",
   "execution_count": 470,
   "metadata": {},
   "outputs": [
    {
     "data": {
      "text/plain": [
       "array([2, 1, 0, 1, 2])"
      ]
     },
     "execution_count": 470,
     "metadata": {},
     "output_type": "execute_result"
    }
   ],
   "source": [
    "np.absolute(x)"
   ]
  },
  {
   "cell_type": "code",
   "execution_count": 471,
   "metadata": {},
   "outputs": [
    {
     "data": {
      "text/plain": [
       "array([2, 1, 0, 1, 2])"
      ]
     },
     "execution_count": 471,
     "metadata": {},
     "output_type": "execute_result"
    }
   ],
   "source": [
    "np.abs(x)"
   ]
  },
  {
   "cell_type": "markdown",
   "metadata": {},
   "source": [
    "### Exponents and logarithms"
   ]
  },
  {
   "cell_type": "code",
   "execution_count": 472,
   "metadata": {},
   "outputs": [
    {
     "name": "stdout",
     "output_type": "stream",
     "text": [
      "x     = [1, 2, 3]\n",
      "e^x   = [ 2.71828183  7.3890561  20.08553692]\n",
      "2^x   = [2. 4. 8.]\n",
      "3^x   = [ 3  9 27]\n"
     ]
    }
   ],
   "source": [
    "x = [1, 2, 3]\n",
    "print(\"x     =\", x)\n",
    "print(\"e^x   =\", np.exp(x))\n",
    "print(\"2^x   =\", np.exp2(x))\n",
    "print(\"3^x   =\", np.power(3, x))"
   ]
  },
  {
   "cell_type": "code",
   "execution_count": 473,
   "metadata": {},
   "outputs": [
    {
     "name": "stdout",
     "output_type": "stream",
     "text": [
      "x        = [1, 2, 4, 10]\n",
      "ln(x)    = [0.         0.69314718 1.38629436 2.30258509]\n",
      "log2(x)  = [0.         1.         2.         3.32192809]\n",
      "log10(x) = [0.         0.30103    0.60205999 1.        ]\n"
     ]
    }
   ],
   "source": [
    "x = [1, 2, 4, 10]\n",
    "print(\"x        =\", x)\n",
    "print(\"ln(x)    =\", np.log(x))\n",
    "print(\"log2(x)  =\", np.log2(x))\n",
    "print(\"log10(x) =\", np.log10(x))"
   ]
  },
  {
   "cell_type": "markdown",
   "metadata": {},
   "source": [
    "### Aggregates\n",
    "\n",
    "* Use reduce and accumulate as example"
   ]
  },
  {
   "cell_type": "code",
   "execution_count": 474,
   "metadata": {},
   "outputs": [
    {
     "name": "stdout",
     "output_type": "stream",
     "text": [
      "[1 2 3 4 5]\n",
      "15\n",
      "120\n"
     ]
    }
   ],
   "source": [
    "x = np.arange(1, 6)\n",
    "print(x)\n",
    "print(np.add.reduce(x))\n",
    "print(np.multiply.reduce(x))"
   ]
  },
  {
   "cell_type": "code",
   "execution_count": 475,
   "metadata": {},
   "outputs": [
    {
     "data": {
      "text/plain": [
       "array([ 1,  3,  6, 10, 15])"
      ]
     },
     "execution_count": 475,
     "metadata": {},
     "output_type": "execute_result"
    }
   ],
   "source": [
    "np.add.accumulate(x)"
   ]
  },
  {
   "cell_type": "code",
   "execution_count": 476,
   "metadata": {},
   "outputs": [
    {
     "data": {
      "text/plain": [
       "array([  1,   2,   6,  24, 120])"
      ]
     },
     "execution_count": 476,
     "metadata": {},
     "output_type": "execute_result"
    }
   ],
   "source": [
    "np.multiply.accumulate(x)"
   ]
  },
  {
   "cell_type": "code",
   "execution_count": 477,
   "metadata": {},
   "outputs": [
    {
     "data": {
      "text/plain": [
       "array([[ 1,  2,  3,  4,  5],\n",
       "       [ 2,  4,  6,  8, 10],\n",
       "       [ 3,  6,  9, 12, 15],\n",
       "       [ 4,  8, 12, 16, 20],\n",
       "       [ 5, 10, 15, 20, 25]])"
      ]
     },
     "execution_count": 477,
     "metadata": {},
     "output_type": "execute_result"
    }
   ],
   "source": [
    "np.multiply.outer(x, x)"
   ]
  },
  {
   "cell_type": "markdown",
   "metadata": {},
   "source": [
    "# Numpy Sorting"
   ]
  },
  {
   "cell_type": "markdown",
   "metadata": {},
   "source": [
    "### np.sort & np.argsort"
   ]
  },
  {
   "cell_type": "code",
   "execution_count": 478,
   "metadata": {},
   "outputs": [
    {
     "data": {
      "text/plain": [
       "array([1, 2, 3, 4, 5])"
      ]
     },
     "execution_count": 478,
     "metadata": {},
     "output_type": "execute_result"
    }
   ],
   "source": [
    "x = np.array([2, 1, 4, 3, 5])\n",
    "np.sort(x)"
   ]
  },
  {
   "cell_type": "code",
   "execution_count": 479,
   "metadata": {},
   "outputs": [
    {
     "name": "stdout",
     "output_type": "stream",
     "text": [
      "[1 2 3 4 5]\n"
     ]
    }
   ],
   "source": [
    "# In-place sort\n",
    "x.sort()\n",
    "print(x)"
   ]
  },
  {
   "cell_type": "code",
   "execution_count": 480,
   "metadata": {},
   "outputs": [
    {
     "name": "stdout",
     "output_type": "stream",
     "text": [
      "[1 0 3 2 4]\n"
     ]
    }
   ],
   "source": [
    "# argsort - return index of sorted element\n",
    "x = np.array([2, 1, 4, 3, 5])\n",
    "i = np.argsort(x)\n",
    "print(i)"
   ]
  },
  {
   "cell_type": "code",
   "execution_count": 481,
   "metadata": {},
   "outputs": [
    {
     "data": {
      "text/plain": [
       "array([1, 2, 3, 4, 5])"
      ]
     },
     "execution_count": 481,
     "metadata": {},
     "output_type": "execute_result"
    }
   ],
   "source": [
    "# fancy indexing\n",
    "x[i]"
   ]
  },
  {
   "cell_type": "code",
   "execution_count": 482,
   "metadata": {},
   "outputs": [
    {
     "data": {
      "text/plain": [
       "array([2, 1, 4, 3, 5])"
      ]
     },
     "execution_count": 482,
     "metadata": {},
     "output_type": "execute_result"
    }
   ],
   "source": [
    "x"
   ]
  },
  {
   "cell_type": "markdown",
   "metadata": {},
   "source": [
    "### Sorting along rows or columns"
   ]
  },
  {
   "cell_type": "code",
   "execution_count": 483,
   "metadata": {},
   "outputs": [
    {
     "name": "stdout",
     "output_type": "stream",
     "text": [
      "[[2 0 7 6]\n",
      " [5 8 0 0]\n",
      " [6 8 6 4]\n",
      " [6 7 4 9]]\n"
     ]
    }
   ],
   "source": [
    "x = np.random.randint(0, 10, (4, 4))\n",
    "print(x)"
   ]
  },
  {
   "cell_type": "code",
   "execution_count": 484,
   "metadata": {},
   "outputs": [
    {
     "data": {
      "text/plain": [
       "array([[2, 0, 0, 0],\n",
       "       [5, 7, 4, 4],\n",
       "       [6, 8, 6, 6],\n",
       "       [6, 8, 7, 9]])"
      ]
     },
     "execution_count": 484,
     "metadata": {},
     "output_type": "execute_result"
    }
   ],
   "source": [
    "np.sort(x, axis=0)"
   ]
  },
  {
   "cell_type": "code",
   "execution_count": 485,
   "metadata": {},
   "outputs": [
    {
     "data": {
      "text/plain": [
       "array([[0, 2, 6, 7],\n",
       "       [0, 0, 5, 8],\n",
       "       [4, 6, 6, 8],\n",
       "       [4, 6, 7, 9]])"
      ]
     },
     "execution_count": 485,
     "metadata": {},
     "output_type": "execute_result"
    }
   ],
   "source": [
    "np.sort(x, axis=1)"
   ]
  },
  {
   "cell_type": "markdown",
   "metadata": {},
   "source": [
    "### Partial Sorts\n",
    "Sometimes we only care *k* smallest/largest values in the array"
   ]
  },
  {
   "cell_type": "code",
   "execution_count": 486,
   "metadata": {},
   "outputs": [
    {
     "data": {
      "text/plain": [
       "array([2, 1, 3, 4, 6, 5, 7])"
      ]
     },
     "execution_count": 486,
     "metadata": {},
     "output_type": "execute_result"
    }
   ],
   "source": [
    "x = np.array([7, 2, 3, 1, 6, 5, 4])\n",
    "np.partition(x, 3)"
   ]
  },
  {
   "cell_type": "markdown",
   "metadata": {},
   "source": [
    "The result is a new array with the smallest K values to the left of the partition, and the remaining values to the right, in arbitrary order:"
   ]
  },
  {
   "cell_type": "code",
   "execution_count": 487,
   "metadata": {},
   "outputs": [
    {
     "data": {
      "text/plain": [
       "array([2, 1, 3, 4, 5, 6, 7])"
      ]
     },
     "execution_count": 487,
     "metadata": {},
     "output_type": "execute_result"
    }
   ],
   "source": [
    "np.partition(x, -2) # for largest k values"
   ]
  },
  {
   "cell_type": "code",
   "execution_count": 488,
   "metadata": {},
   "outputs": [
    {
     "data": {
      "text/plain": [
       "array([1, 3, 2, 6, 4, 5, 0])"
      ]
     },
     "execution_count": 488,
     "metadata": {},
     "output_type": "execute_result"
    }
   ],
   "source": [
    "np.argpartition(x, 3)"
   ]
  },
  {
   "cell_type": "code",
   "execution_count": 489,
   "metadata": {},
   "outputs": [
    {
     "data": {
      "text/plain": [
       "array([1, 3, 2, 6, 5, 4, 0])"
      ]
     },
     "execution_count": 489,
     "metadata": {},
     "output_type": "execute_result"
    }
   ],
   "source": [
    "np.argpartition(x, -2)"
   ]
  },
  {
   "cell_type": "code",
   "execution_count": 490,
   "metadata": {},
   "outputs": [
    {
     "name": "stdout",
     "output_type": "stream",
     "text": [
      "7 6\n"
     ]
    }
   ],
   "source": [
    "print(x[0], x[4])"
   ]
  },
  {
   "cell_type": "markdown",
   "metadata": {},
   "source": [
    "### Example: k-Nearest Neighbors\n",
    "Use case: Uber pickup, Amazon deliver"
   ]
  },
  {
   "cell_type": "code",
   "execution_count": 491,
   "metadata": {},
   "outputs": [
    {
     "data": {
      "image/png": "[encoded data removed]",
      "text/plain": [
       "<Figure size 432x288 with 1 Axes>"
      ]
     },
     "metadata": {},
     "output_type": "display_data"
    }
   ],
   "source": [
    "X = np.random.random((10, 2))\n",
    "%matplotlib inline\n",
    "import matplotlib.pyplot as plt\n",
    "import seaborn; seaborn.set() # Plot styling\n",
    "plt.scatter(X[:, 0], X[:, 1], s=100);"
   ]
  },
  {
   "cell_type": "code",
   "execution_count": 492,
   "metadata": {},
   "outputs": [
    {
     "name": "stdout",
     "output_type": "stream",
     "text": [
      "[[0.03261425 0.92131568]\n",
      " [0.57822691 0.92455931]\n",
      " [0.48070049 0.21173734]\n",
      " [0.70344027 0.05010741]\n",
      " [0.10065459 0.48240615]\n",
      " [0.58918367 0.14984229]\n",
      " [0.30953928 0.67241722]\n",
      " [0.59491211 0.36643455]\n",
      " [0.55396545 0.03020534]\n",
      " [0.41205422 0.00138526]]\n"
     ]
    }
   ],
   "source": [
    "print(X)"
   ]
  },
  {
   "cell_type": "code",
   "execution_count": 493,
   "metadata": {},
   "outputs": [
    {
     "name": "stdout",
     "output_type": "stream",
     "text": [
      "(10, 10, 2)\n",
      "[[[ 0.          0.        ]\n",
      "  [-0.54561265 -0.00324363]\n",
      "  [-0.44808623  0.70957834]\n",
      "  [-0.67082601  0.87120827]\n",
      "  [-0.06804034  0.43890953]\n",
      "  [-0.55656942  0.77147339]\n",
      "  [-0.27692502  0.24889845]\n",
      "  [-0.56229785  0.55488113]\n",
      "  [-0.5213512   0.89111034]\n",
      "  [-0.37943996  0.91993042]]\n",
      "\n",
      " [[ 0.54561265  0.00324363]\n",
      "  [ 0.          0.        ]\n",
      "  [ 0.09752642  0.71282197]\n",
      "  [-0.12521336  0.8744519 ]\n",
      "  [ 0.47757231  0.44215316]\n",
      "  [-0.01095677  0.77471702]\n",
      "  [ 0.26868763  0.25214209]\n",
      "  [-0.0166852   0.55812476]\n",
      "  [ 0.02426145  0.89435397]\n",
      "  [ 0.16617269  0.92317405]]\n",
      "\n",
      " [[ 0.44808623 -0.70957834]\n",
      "  [-0.09752642 -0.71282197]\n",
      "  [ 0.          0.        ]\n",
      "  [-0.22273978  0.16162993]\n",
      "  [ 0.38004589 -0.2706688 ]\n",
      "  [-0.10848319  0.06189505]\n",
      "  [ 0.17116121 -0.46067988]\n",
      "  [-0.11421162 -0.15469721]\n",
      "  [-0.07326496  0.181532  ]\n",
      "  [ 0.06864627  0.21035208]]\n",
      "\n",
      " [[ 0.67082601 -0.87120827]\n",
      "  [ 0.12521336 -0.8744519 ]\n",
      "  [ 0.22273978 -0.16162993]\n",
      "  [ 0.          0.        ]\n",
      "  [ 0.60278567 -0.43229873]\n",
      "  [ 0.11425659 -0.09973488]\n",
      "  [ 0.39390099 -0.62230981]\n",
      "  [ 0.10852816 -0.31632714]\n",
      "  [ 0.14947482  0.01990207]\n",
      "  [ 0.29138605  0.04872215]]\n",
      "\n",
      " [[ 0.06804034 -0.43890953]\n",
      "  [-0.47757231 -0.44215316]\n",
      "  [-0.38004589  0.2706688 ]\n",
      "  [-0.60278567  0.43229873]\n",
      "  [ 0.          0.        ]\n",
      "  [-0.48852908  0.33256385]\n",
      "  [-0.20888468 -0.19001108]\n",
      "  [-0.49425751  0.1159716 ]\n",
      "  [-0.45331086  0.45220081]\n",
      "  [-0.31139962  0.48102089]]\n",
      "\n",
      " [[ 0.55656942 -0.77147339]\n",
      "  [ 0.01095677 -0.77471702]\n",
      "  [ 0.10848319 -0.06189505]\n",
      "  [-0.11425659  0.09973488]\n",
      "  [ 0.48852908 -0.33256385]\n",
      "  [ 0.          0.        ]\n",
      "  [ 0.27964439 -0.52257493]\n",
      "  [-0.00572843 -0.21659226]\n",
      "  [ 0.03521822  0.11963695]\n",
      "  [ 0.17712946  0.14845703]]\n",
      "\n",
      " [[ 0.27692502 -0.24889845]\n",
      "  [-0.26868763 -0.25214209]\n",
      "  [-0.17116121  0.46067988]\n",
      "  [-0.39390099  0.62230981]\n",
      "  [ 0.20888468  0.19001108]\n",
      "  [-0.27964439  0.52257493]\n",
      "  [ 0.          0.        ]\n",
      "  [-0.28537283  0.30598268]\n",
      "  [-0.24442617  0.64221188]\n",
      "  [-0.10251494  0.67103196]]\n",
      "\n",
      " [[ 0.56229785 -0.55488113]\n",
      "  [ 0.0166852  -0.55812476]\n",
      "  [ 0.11421162  0.15469721]\n",
      "  [-0.10852816  0.31632714]\n",
      "  [ 0.49425751 -0.1159716 ]\n",
      "  [ 0.00572843  0.21659226]\n",
      "  [ 0.28537283 -0.30598268]\n",
      "  [ 0.          0.        ]\n",
      "  [ 0.04094666  0.33622921]\n",
      "  [ 0.18285789  0.36504929]]\n",
      "\n",
      " [[ 0.5213512  -0.89111034]\n",
      "  [-0.02426145 -0.89435397]\n",
      "  [ 0.07326496 -0.181532  ]\n",
      "  [-0.14947482 -0.01990207]\n",
      "  [ 0.45331086 -0.45220081]\n",
      "  [-0.03521822 -0.11963695]\n",
      "  [ 0.24442617 -0.64221188]\n",
      "  [-0.04094666 -0.33622921]\n",
      "  [ 0.          0.        ]\n",
      "  [ 0.14191123  0.02882008]]\n",
      "\n",
      " [[ 0.37943996 -0.91993042]\n",
      "  [-0.16617269 -0.92317405]\n",
      "  [-0.06864627 -0.21035208]\n",
      "  [-0.29138605 -0.04872215]\n",
      "  [ 0.31139962 -0.48102089]\n",
      "  [-0.17712946 -0.14845703]\n",
      "  [ 0.10251494 -0.67103196]\n",
      "  [-0.18285789 -0.36504929]\n",
      "  [-0.14191123 -0.02882008]\n",
      "  [ 0.          0.        ]]]\n"
     ]
    }
   ],
   "source": [
    "differences = X[:, np.newaxis, :] - X[np.newaxis, :, :]\n",
    "print(differences.shape)\n",
    "print(differences)"
   ]
  },
  {
   "cell_type": "code",
   "execution_count": 494,
   "metadata": {},
   "outputs": [],
   "source": [
    "sq_d = X ** 2"
   ]
  },
  {
   "cell_type": "code",
   "execution_count": 495,
   "metadata": {},
   "outputs": [],
   "source": [
    "sq_d = np.add.reduce(sq_d, axis=1)"
   ]
  },
  {
   "cell_type": "code",
   "execution_count": 496,
   "metadata": {},
   "outputs": [],
   "source": [
    "# sq_d = sq_d.sum(axis=1)"
   ]
  },
  {
   "cell_type": "code",
   "execution_count": 497,
   "metadata": {},
   "outputs": [
    {
     "data": {
      "text/plain": [
       "array([9, 4, 2, 8, 5, 3, 6, 7, 1, 0])"
      ]
     },
     "execution_count": 497,
     "metadata": {},
     "output_type": "execute_result"
    }
   ],
   "source": [
    "k = 3\n",
    "nearest_partition = np.argpartition(sq_d, k)\n",
    "nearest_partition"
   ]
  },
  {
   "cell_type": "code",
   "execution_count": 498,
   "metadata": {},
   "outputs": [
    {
     "data": {
      "image/png": "[encoded data removed]",
      "text/plain": [
       "<Figure size 432x288 with 1 Axes>"
      ]
     },
     "metadata": {},
     "output_type": "display_data"
    }
   ],
   "source": [
    "plt.scatter(X[:, 0], X[:, 1], s=100);\n",
    "\n",
    "for i in np.arange(k):\n",
    "    j = nearest_partition[i]\n",
    "#     plt.scatter(X[j:j+1, 0], X[j:j+1, 1], s=100, color='red');\n",
    "    plt.plot(X[j][0], X[j][1], 'ro');"
   ]
  },
  {
   "cell_type": "code",
   "execution_count": 499,
   "metadata": {},
   "outputs": [
    {
     "data": {
      "text/plain": [
       "0.03261425352451197"
      ]
     },
     "execution_count": 499,
     "metadata": {},
     "output_type": "execute_result"
    }
   ],
   "source": [
    "X[0][0]"
   ]
  },
  {
   "cell_type": "markdown",
   "metadata": {},
   "source": [
    "# Numpy Aggretation\n",
    "* Min, Max, Sum, Avg\n",
    "* Summarize a dataset"
   ]
  },
  {
   "cell_type": "code",
   "execution_count": 500,
   "metadata": {},
   "outputs": [
    {
     "name": "stdout",
     "output_type": "stream",
     "text": [
      "823 µs ± 19.2 µs per loop (mean ± std. dev. of 7 runs, 1000 loops each)\n",
      "5.99 µs ± 310 ns per loop (mean ± std. dev. of 7 runs, 100000 loops each)\n"
     ]
    }
   ],
   "source": [
    "array = np.random.rand(10_000) \n",
    "%timeit sum(array)\n",
    "%timeit np.sum(array)"
   ]
  },
  {
   "cell_type": "markdown",
   "metadata": {},
   "source": [
    "### Min & Max"
   ]
  },
  {
   "cell_type": "code",
   "execution_count": 501,
   "metadata": {},
   "outputs": [
    {
     "data": {
      "text/plain": [
       "(3.854004890946339e-05, 0.9998946119988261)"
      ]
     },
     "execution_count": 501,
     "metadata": {},
     "output_type": "execute_result"
    }
   ],
   "source": [
    "min(array), max(array)"
   ]
  },
  {
   "cell_type": "code",
   "execution_count": 502,
   "metadata": {},
   "outputs": [
    {
     "data": {
      "text/plain": [
       "(3.854004890946339e-05, 0.9998946119988261)"
      ]
     },
     "execution_count": 502,
     "metadata": {},
     "output_type": "execute_result"
    }
   ],
   "source": [
    "np.min(array), np.max(array)"
   ]
  },
  {
   "cell_type": "code",
   "execution_count": 503,
   "metadata": {},
   "outputs": [
    {
     "name": "stdout",
     "output_type": "stream",
     "text": [
      "626 µs ± 20.6 µs per loop (mean ± std. dev. of 7 runs, 1000 loops each)\n",
      "6.52 µs ± 215 ns per loop (mean ± std. dev. of 7 runs, 100000 loops each)\n"
     ]
    }
   ],
   "source": [
    "%timeit min(array)\n",
    "%timeit np.min(array)"
   ]
  },
  {
   "cell_type": "code",
   "execution_count": 504,
   "metadata": {},
   "outputs": [
    {
     "data": {
      "text/plain": [
       "(3.854004890946339e-05, 0.9998946119988261, 5033.511699224093)"
      ]
     },
     "execution_count": 504,
     "metadata": {},
     "output_type": "execute_result"
    }
   ],
   "source": [
    "array.min(), array.max(), array.sum()"
   ]
  },
  {
   "cell_type": "markdown",
   "metadata": {},
   "source": [
    "### Multi-demensional aggregation"
   ]
  },
  {
   "cell_type": "code",
   "execution_count": 505,
   "metadata": {},
   "outputs": [
    {
     "name": "stdout",
     "output_type": "stream",
     "text": [
      "[[0.63647082 0.92343041 0.14716656 0.5374735 ]\n",
      " [0.26450847 0.44965806 0.79768836 0.83497555]\n",
      " [0.08597286 0.163148   0.56399528 0.57568157]]\n"
     ]
    }
   ],
   "source": [
    "M = np.random.random((3, 4))\n",
    "print(M)"
   ]
  },
  {
   "cell_type": "code",
   "execution_count": 506,
   "metadata": {},
   "outputs": [
    {
     "data": {
      "text/plain": [
       "array([0.08597286, 0.163148  , 0.14716656, 0.5374735 ])"
      ]
     },
     "execution_count": 506,
     "metadata": {},
     "output_type": "execute_result"
    }
   ],
   "source": [
    "M.min(axis=0) # minimum value within each column"
   ]
  },
  {
   "cell_type": "code",
   "execution_count": 507,
   "metadata": {},
   "outputs": [
    {
     "data": {
      "text/plain": [
       "array([0.14716656, 0.26450847, 0.08597286])"
      ]
     },
     "execution_count": 507,
     "metadata": {},
     "output_type": "execute_result"
    }
   ],
   "source": [
    "M.min(axis=1) # minimum value within each row"
   ]
  },
  {
   "cell_type": "code",
   "execution_count": 508,
   "metadata": {},
   "outputs": [
    {
     "data": {
      "text/plain": [
       "array([0.98695215, 1.53623647, 1.50885019, 1.94813062])"
      ]
     },
     "execution_count": 508,
     "metadata": {},
     "output_type": "execute_result"
    }
   ],
   "source": [
    "M.sum(axis=0)"
   ]
  },
  {
   "cell_type": "code",
   "execution_count": 509,
   "metadata": {},
   "outputs": [
    {
     "data": {
      "text/plain": [
       "array([2.24454129, 2.34683043, 1.3887977 ])"
      ]
     },
     "execution_count": 509,
     "metadata": {},
     "output_type": "execute_result"
    }
   ],
   "source": [
    "M.sum(axis=1)"
   ]
  },
  {
   "cell_type": "code",
   "execution_count": 510,
   "metadata": {},
   "outputs": [
    {
     "data": {
      "text/plain": [
       "array([2, 2, 0, 0])"
      ]
     },
     "execution_count": 510,
     "metadata": {},
     "output_type": "execute_result"
    }
   ],
   "source": [
    "M.argmin(axis=0)"
   ]
  },
  {
   "cell_type": "code",
   "execution_count": 511,
   "metadata": {},
   "outputs": [
    {
     "data": {
      "text/plain": [
       "array([2, 0, 0])"
      ]
     },
     "execution_count": 511,
     "metadata": {},
     "output_type": "execute_result"
    }
   ],
   "source": [
    "M.argmin(axis=1)"
   ]
  },
  {
   "cell_type": "markdown",
   "metadata": {},
   "source": [
    "### Other aggregation functions - [Link](https://docs.scipy.org/doc/numpy-1.13.0/reference/routines.statistics.html)"
   ]
  },
  {
   "cell_type": "markdown",
   "metadata": {},
   "source": [
    "# Numpy Indexing\n",
    "* Pass an array of indices to access multiple array elements at once."
   ]
  },
  {
   "cell_type": "code",
   "execution_count": 528,
   "metadata": {},
   "outputs": [
    {
     "name": "stdout",
     "output_type": "stream",
     "text": [
      "[55 48 46 37 45 57 15 29 27 40]\n"
     ]
    }
   ],
   "source": [
    "x = np.random.randint(100, size=10)\n",
    "print(x)"
   ]
  },
  {
   "cell_type": "code",
   "execution_count": 530,
   "metadata": {},
   "outputs": [
    {
     "data": {
      "text/plain": [
       "[37, 29, 46]"
      ]
     },
     "execution_count": 530,
     "metadata": {},
     "output_type": "execute_result"
    }
   ],
   "source": [
    "[x[3], x[7], x[2]]"
   ]
  },
  {
   "cell_type": "code",
   "execution_count": 529,
   "metadata": {},
   "outputs": [
    {
     "data": {
      "text/plain": [
       "array([37, 29, 46])"
      ]
     },
     "execution_count": 529,
     "metadata": {},
     "output_type": "execute_result"
    }
   ],
   "source": [
    "ind = [3, 7, 2]\n",
    "x[ind]"
   ]
  },
  {
   "cell_type": "code",
   "execution_count": 531,
   "metadata": {},
   "outputs": [
    {
     "data": {
      "text/plain": [
       "array([[37, 29],\n",
       "       [45, 57]])"
      ]
     },
     "execution_count": 531,
     "metadata": {},
     "output_type": "execute_result"
    }
   ],
   "source": [
    "ind = np.array([[3, 7],\n",
    "                [4, 5]])\n",
    "x[ind]"
   ]
  },
  {
   "cell_type": "code",
   "execution_count": 516,
   "metadata": {},
   "outputs": [
    {
     "data": {
      "text/plain": [
       "array([[ 0,  1,  2,  3],\n",
       "       [ 4,  5,  6,  7],\n",
       "       [ 8,  9, 10, 11]])"
      ]
     },
     "execution_count": 516,
     "metadata": {},
     "output_type": "execute_result"
    }
   ],
   "source": [
    "X = np.arange(12).reshape((3, 4))\n",
    "X"
   ]
  },
  {
   "cell_type": "code",
   "execution_count": 532,
   "metadata": {},
   "outputs": [
    {
     "data": {
      "text/plain": [
       "array([10,  8,  9])"
      ]
     },
     "execution_count": 532,
     "metadata": {},
     "output_type": "execute_result"
    }
   ],
   "source": [
    "X[2, [2, 0, 1]]"
   ]
  },
  {
   "cell_type": "code",
   "execution_count": 533,
   "metadata": {},
   "outputs": [
    {
     "data": {
      "text/plain": [
       "array([[ 6,  4,  5],\n",
       "       [10,  8,  9]])"
      ]
     },
     "execution_count": 533,
     "metadata": {},
     "output_type": "execute_result"
    }
   ],
   "source": [
    "X[1:, [2, 0, 1]]"
   ]
  },
  {
   "cell_type": "markdown",
   "metadata": {},
   "source": [
    "### Modify Data with indexing"
   ]
  },
  {
   "cell_type": "code",
   "execution_count": 519,
   "metadata": {},
   "outputs": [
    {
     "name": "stdout",
     "output_type": "stream",
     "text": [
      "[0 1 2 3 4 5 6 7 8 9]\n",
      "[ 0 99  2 99  4 99  6 99  8 99]\n"
     ]
    }
   ],
   "source": [
    "x = np.arange(10)\n",
    "print(x)\n",
    "i = np.array([1, 3, 5, 7, 9])\n",
    "x[i] = 99\n",
    "print(x)"
   ]
  }
 ],
 "metadata": {
  "kernelspec": {
   "display_name": "Python 3",
   "language": "python",
   "name": "python3"
  },
  "language_info": {
   "codemirror_mode": {
    "name": "ipython",
    "version": 3
   },
   "file_extension": ".py",
   "mimetype": "text/x-python",
   "name": "python",
   "nbconvert_exporter": "python",
   "pygments_lexer": "ipython3",
   "version": "3.7.3"
  }
 },
 "nbformat": 4,
 "nbformat_minor": 2
}
