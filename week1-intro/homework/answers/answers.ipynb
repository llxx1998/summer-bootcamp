{
 "cells": [
  {
   "cell_type": "markdown",
   "metadata": {},
   "source": [
    "#### 2. find-first-and-last \n",
    "Write a program that takes a list of numbers (for example, a = [5, 10, 15, 25, 35], return [5, 35]) and makes a new list of only the first and last elements of the given list. For practice, write this code inside a function."
   ]
  },
  {
   "cell_type": "code",
   "execution_count": 1,
   "metadata": {},
   "outputs": [
    {
     "data": {
      "text/plain": [
       "[5, 35]"
      ]
     },
     "execution_count": 1,
     "metadata": {},
     "output_type": "execute_result"
    }
   ],
   "source": [
    "def find_first_and_last(arr):\n",
    "    return [arr[0], arr[-1]]\n",
    "\n",
    "find_first_and_last([5, 10, 15, 25, 35])"
   ]
  },
  {
   "cell_type": "markdown",
   "metadata": {},
   "source": [
    "#### 4. leap-year \n",
    "Given a year and return if it's a leap-year. input: 2000 and output: True."
   ]
  },
  {
   "cell_type": "code",
   "execution_count": 2,
   "metadata": {},
   "outputs": [
    {
     "name": "stdout",
     "output_type": "stream",
     "text": [
      "True\n",
      "True\n",
      "True\n",
      "True\n",
      "True\n"
     ]
    }
   ],
   "source": [
    "def is_leap_year(year):\n",
    "    if year < 0: \n",
    "        return False\n",
    "    return (year % 400 == 0) or \\\n",
    "            ((year % 4 == 0) and (year % 100 != 0))\n",
    "\n",
    "print(is_leap_year(-1) == False)\n",
    "print(is_leap_year(0) == True)\n",
    "print(is_leap_year(1996) == True)\n",
    "print(is_leap_year(2000) == True)\n",
    "print(is_leap_year(2100) == False)"
   ]
  },
  {
   "cell_type": "markdown",
   "metadata": {},
   "source": [
    "#### 6. buy-and-sell \n",
    "Say you have an array for which the i-th element is the price of a given stock on day i. If you were only permitted to complete at most one transaction (i.e., buy one and sell one share of the stock), design an algorithm to find the maximum profit. Note that you cannot sell a stock before you buy one.\n",
    "\n",
    "\n",
    "Example 1:\n",
    "\n",
    "\n",
    "Input: [7,1,6,4,5,3] Output: 5 Explanation: Buy on day 2 (price = 1) and sell on day 3 (price = 6), profit = 6-1 = 5.\n",
    "\n",
    "\n",
    "Input: [7,4,3,2] Output: 0 Explanation: In this case, no transaction is done, i.e. max profit = 0.\n",
    "\n"
   ]
  },
  {
   "cell_type": "code",
   "execution_count": 3,
   "metadata": {},
   "outputs": [
    {
     "name": "stdout",
     "output_type": "stream",
     "text": [
      "True\n",
      "True\n"
     ]
    }
   ],
   "source": [
    "def buy_and_sell(prices):\n",
    "    if len(prices) < 2: #at least two days for trading\n",
    "        return 0\n",
    "    \n",
    "    profit = 0\n",
    "    buy_price = prices[0]\n",
    "    for price in prices:\n",
    "        if price < buy_price:\n",
    "            buy_price = price\n",
    "        else:\n",
    "            current_profit = price - buy_price\n",
    "            if current_profit > profit:\n",
    "                profit = current_profit\n",
    "    return profit\n",
    "                \n",
    "print(buy_and_sell([7, 1, 6, 4, 5, 3]) == 5)\n",
    "print(buy_and_sell([7, 4, 3, 2]) == 0)"
   ]
  },
  {
   "cell_type": "markdown",
   "metadata": {},
   "source": [
    "#### 8. strong-password \n",
    "Write a strong password generator function in Python. Be creative with how you generate passwords - strong passwords have a mix of lowercase letters, uppercase letters, numbers, and symbols. The passwords should be random, generating a new password every time the user asks for a new password."
   ]
  },
  {
   "cell_type": "code",
   "execution_count": 22,
   "metadata": {},
   "outputs": [
    {
     "name": "stdout",
     "output_type": "stream",
     "text": [
      "True\n",
      "True\n",
      "True\n",
      "Id8@\n"
     ]
    }
   ],
   "source": [
    "def gen_psd():\n",
    "    # this import is not recommended! ONLY FOR DEMO PURPOSE.\n",
    "    # most of the time you may want the import at the begining of the module file.\n",
    "    from random import randint\n",
    "    # ascii code on the keyboard 94 keys total, no space and DEL\n",
    "    symbols = list(\"~`!@#$%^&*()-=_+[]\\{}|;':\\\",./<>?\")\n",
    "    return \"\" + chr(randint(65, 90)) + chr(randint(97, 122)) \\\n",
    "            + chr(randint(48, 57)) + symbols[randint(0, 31)]\n",
    "\n",
    "\n",
    "# check_psd is to check if a password string is strong.\n",
    "def is_strong_psd(psd):\n",
    "    uppers = list(\"ABCDEFGHIJKLMNOPQRSTUVWXYZ\")\n",
    "    lowers = list(\"abcdefghijklmnopqrstuvwxyz\")\n",
    "    numbers = list(\"0123456789\")\n",
    "    return len(list(filter(lambda x : (x in uppers) or (x in lowers) or (x in numbers), list(psd)))) \\\n",
    "            < len(psd)\n",
    "\n",
    "\n",
    "print(is_strong_psd(\"qQ1@\") == True)\n",
    "print(is_strong_psd(\"qQ1\") == False)\n",
    "print(is_strong_psd(gen_psd()) == True)\n",
    "print(gen_psd())  # print a random psd"
   ]
  },
  {
   "cell_type": "code",
   "execution_count": null,
   "metadata": {},
   "outputs": [],
   "source": []
  }
 ],
 "metadata": {
  "kernelspec": {
   "display_name": "Python 3",
   "language": "python",
   "name": "python3"
  },
  "language_info": {
   "codemirror_mode": {
    "name": "ipython",
    "version": 3
   },
   "file_extension": ".py",
   "mimetype": "text/x-python",
   "name": "python",
   "nbconvert_exporter": "python",
   "pygments_lexer": "ipython3",
   "version": "3.7.3"
  }
 },
 "nbformat": 4,
 "nbformat_minor": 2
}
